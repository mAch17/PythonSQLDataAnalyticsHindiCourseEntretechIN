{
 "cells": [
  {
   "cell_type": "code",
   "execution_count": 1,
   "id": "c4072408",
   "metadata": {},
   "outputs": [],
   "source": [
    "import pandas as pd\n",
    "import numpy as np \n",
    "import matplotlib.pyplot as plt\n",
    "import seaborn \n",
    "import duckdb\n"
   ]
  },
  {
   "cell_type": "code",
   "execution_count": 2,
   "id": "7823dfab",
   "metadata": {},
   "outputs": [
    {
     "data": {
      "text/html": [
       "<div>\n",
       "<style scoped>\n",
       "    .dataframe tbody tr th:only-of-type {\n",
       "        vertical-align: middle;\n",
       "    }\n",
       "\n",
       "    .dataframe tbody tr th {\n",
       "        vertical-align: top;\n",
       "    }\n",
       "\n",
       "    .dataframe thead th {\n",
       "        text-align: right;\n",
       "    }\n",
       "</style>\n",
       "<table border=\"1\" class=\"dataframe\">\n",
       "  <thead>\n",
       "    <tr style=\"text-align: right;\">\n",
       "      <th></th>\n",
       "      <th>Roll Number</th>\n",
       "      <th>Name</th>\n",
       "      <th>Marks</th>\n",
       "    </tr>\n",
       "  </thead>\n",
       "  <tbody>\n",
       "    <tr>\n",
       "      <th>0</th>\n",
       "      <td>1</td>\n",
       "      <td>ABC</td>\n",
       "      <td>57</td>\n",
       "    </tr>\n",
       "    <tr>\n",
       "      <th>1</th>\n",
       "      <td>2</td>\n",
       "      <td>DEF</td>\n",
       "      <td>88</td>\n",
       "    </tr>\n",
       "    <tr>\n",
       "      <th>2</th>\n",
       "      <td>3</td>\n",
       "      <td>GHI</td>\n",
       "      <td>76</td>\n",
       "    </tr>\n",
       "    <tr>\n",
       "      <th>3</th>\n",
       "      <td>4</td>\n",
       "      <td>JKL</td>\n",
       "      <td>93</td>\n",
       "    </tr>\n",
       "    <tr>\n",
       "      <th>4</th>\n",
       "      <td>5</td>\n",
       "      <td>MNO</td>\n",
       "      <td>64</td>\n",
       "    </tr>\n",
       "  </tbody>\n",
       "</table>\n",
       "</div>"
      ],
      "text/plain": [
       "   Roll Number Name  Marks\n",
       "0            1  ABC     57\n",
       "1            2  DEF     88\n",
       "2            3  GHI     76\n",
       "3            4  JKL     93\n",
       "4            5  MNO     64"
      ]
     },
     "execution_count": 2,
     "metadata": {},
     "output_type": "execute_result"
    }
   ],
   "source": [
    "students_df = pd.read_excel(\"students.xlsx\",sheet_name=\"StudentOverallData\")\n",
    "students_df.head()"
   ]
  },
  {
   "cell_type": "code",
   "execution_count": 3,
   "id": "7b1cab5f",
   "metadata": {},
   "outputs": [
    {
     "name": "stdout",
     "output_type": "stream",
     "text": [
      "[(1, 'ABC', 57), (2, 'DEF', 88), (3, 'GHI', 76), (4, 'JKL', 93), (5, 'MNO', 64), (6, 'PQR', 78), (7, 'STU', 95), (8, 'VWX', 74), (9, 'YZA', 91), (10, 'BCD', 75)]\n"
     ]
    }
   ],
   "source": [
    "con1 = duckdb.connect(database=':memory:', read_only=False)\n",
    "con1.register(\"students_db\",students_df)\n",
    "print(con1.execute(\"SELECT * FROM students_db\").fetchall())"
   ]
  },
  {
   "cell_type": "code",
   "execution_count": 4,
   "id": "47001f22",
   "metadata": {},
   "outputs": [
    {
     "name": "stdout",
     "output_type": "stream",
     "text": [
      "   Roll Number Name  Marks\n",
      "0            1  ABC     57\n",
      "1            2  DEF     88\n",
      "2            3  GHI     76\n",
      "3            4  JKL     93\n",
      "4            5  MNO     64\n",
      "5            6  PQR     78\n",
      "6            7  STU     95\n",
      "7            8  VWX     74\n",
      "8            9  YZA     91\n",
      "9           10  BCD     75\n"
     ]
    }
   ],
   "source": [
    "print(students_df)"
   ]
  },
  {
   "cell_type": "code",
   "execution_count": 5,
   "id": "ea492d25",
   "metadata": {},
   "outputs": [
    {
     "name": "stdout",
     "output_type": "stream",
     "text": [
      "0    ABC\n",
      "1    DEF\n",
      "2    GHI\n",
      "3    JKL\n",
      "4    MNO\n",
      "5    PQR\n",
      "6    STU\n",
      "7    VWX\n",
      "8    YZA\n",
      "9    BCD\n",
      "Name: Name, dtype: object\n"
     ]
    }
   ],
   "source": [
    "print(students_df[\"Name\"])"
   ]
  },
  {
   "cell_type": "code",
   "execution_count": 6,
   "id": "8bf19ff3",
   "metadata": {},
   "outputs": [
    {
     "name": "stdout",
     "output_type": "stream",
     "text": [
      "  Name\n",
      "0  ABC\n",
      "1  DEF\n",
      "2  GHI\n",
      "3  JKL\n",
      "4  MNO\n",
      "5  PQR\n",
      "6  STU\n",
      "7  VWX\n",
      "8  YZA\n",
      "9  BCD\n"
     ]
    }
   ],
   "source": [
    "print(con1.execute(\"SELECT Name FROM students_db\").fetchdf())"
   ]
  },
  {
   "cell_type": "code",
   "execution_count": 7,
   "id": "9f043b3a",
   "metadata": {},
   "outputs": [
    {
     "name": "stdout",
     "output_type": "stream",
     "text": [
      "   Roll Number Name  Marks\n",
      "3            4  JKL     93\n",
      "6            7  STU     95\n",
      "8            9  YZA     91\n"
     ]
    }
   ],
   "source": [
    "print(students_df[students_df[\"Marks\"]>90])"
   ]
  },
  {
   "cell_type": "code",
   "execution_count": 8,
   "id": "9355f4e9",
   "metadata": {},
   "outputs": [
    {
     "name": "stdout",
     "output_type": "stream",
     "text": [
      "0    57\n",
      "3    93\n",
      "6    95\n",
      "8    91\n",
      "Name: Marks, dtype: int64\n"
     ]
    }
   ],
   "source": [
    "print(students_df[(students_df[\"Marks\"]>90)|(students_df[\"Marks\"]<60)][\"Marks\"])"
   ]
  },
  {
   "cell_type": "code",
   "execution_count": 9,
   "id": "b7fcba96",
   "metadata": {},
   "outputs": [
    {
     "name": "stdout",
     "output_type": "stream",
     "text": [
      "   Roll Number Name  Marks\n",
      "0            4  JKL     93\n",
      "1            7  STU     95\n",
      "2            9  YZA     91\n"
     ]
    }
   ],
   "source": [
    "print(con1.execute(\"SELECT * FROM students_db WHERE Marks>90\").fetchdf())"
   ]
  },
  {
   "cell_type": "code",
   "execution_count": 10,
   "id": "3869324c",
   "metadata": {},
   "outputs": [
    {
     "name": "stdout",
     "output_type": "stream",
     "text": [
      "   Marks\n",
      "0     57\n",
      "1     93\n",
      "2     95\n",
      "3     91\n"
     ]
    }
   ],
   "source": [
    "print(con1.execute(\"SELECT Marks FROM students_db WHERE Marks<60 OR Marks>90\").fetchdf())"
   ]
  },
  {
   "cell_type": "code",
   "execution_count": 11,
   "id": "0d0c1797",
   "metadata": {},
   "outputs": [
    {
     "data": {
      "text/html": [
       "<div>\n",
       "<style scoped>\n",
       "    .dataframe tbody tr th:only-of-type {\n",
       "        vertical-align: middle;\n",
       "    }\n",
       "\n",
       "    .dataframe tbody tr th {\n",
       "        vertical-align: top;\n",
       "    }\n",
       "\n",
       "    .dataframe thead th {\n",
       "        text-align: right;\n",
       "    }\n",
       "</style>\n",
       "<table border=\"1\" class=\"dataframe\">\n",
       "  <thead>\n",
       "    <tr style=\"text-align: right;\">\n",
       "      <th></th>\n",
       "      <th>Roll Number</th>\n",
       "      <th>Taught By</th>\n",
       "    </tr>\n",
       "  </thead>\n",
       "  <tbody>\n",
       "    <tr>\n",
       "      <th>0</th>\n",
       "      <td>1</td>\n",
       "      <td>1</td>\n",
       "    </tr>\n",
       "    <tr>\n",
       "      <th>1</th>\n",
       "      <td>1</td>\n",
       "      <td>2</td>\n",
       "    </tr>\n",
       "    <tr>\n",
       "      <th>2</th>\n",
       "      <td>2</td>\n",
       "      <td>2</td>\n",
       "    </tr>\n",
       "    <tr>\n",
       "      <th>3</th>\n",
       "      <td>3</td>\n",
       "      <td>2</td>\n",
       "    </tr>\n",
       "    <tr>\n",
       "      <th>4</th>\n",
       "      <td>4</td>\n",
       "      <td>1</td>\n",
       "    </tr>\n",
       "  </tbody>\n",
       "</table>\n",
       "</div>"
      ],
      "text/plain": [
       "   Roll Number  Taught By\n",
       "0            1          1\n",
       "1            1          2\n",
       "2            2          2\n",
       "3            3          2\n",
       "4            4          1"
      ]
     },
     "execution_count": 11,
     "metadata": {},
     "output_type": "execute_result"
    }
   ],
   "source": [
    "teachers_df = pd.read_excel(\"students.xlsx\", sheet_name=\"StudentTeacher\")\n",
    "teachers_df.head()"
   ]
  },
  {
   "cell_type": "code",
   "execution_count": 12,
   "id": "e93fe0ac",
   "metadata": {},
   "outputs": [
    {
     "name": "stdout",
     "output_type": "stream",
     "text": [
      "0     KLM\n",
      "1     OPQ\n",
      "2     OPQ\n",
      "3     OPQ\n",
      "4     KLM\n",
      "5     OPQ\n",
      "6     KLM\n",
      "7     KLM\n",
      "8     KLM\n",
      "9     OPQ\n",
      "10    KLM\n",
      "11    OPQ\n",
      "12    OPQ\n",
      "Name: Taught By, dtype: object\n"
     ]
    }
   ],
   "source": [
    "teacher_names_dict = {1:\"KLM\",2:\"OPQ\"}\n",
    "def get_teacher_name(teachernum):\n",
    "    try:\n",
    "        return teacher_names_dict[teachernum]\n",
    "    except KeyError:\n",
    "        return np.NaN\n",
    "teacher_names = teachers_df[\"Taught By\"].apply(get_teacher_name)\n",
    "print(teacher_names)"
   ]
  },
  {
   "cell_type": "code",
   "execution_count": 13,
   "id": "a719abca",
   "metadata": {},
   "outputs": [
    {
     "name": "stdout",
     "output_type": "stream",
     "text": [
      "    Roll Number  Taught By Taught By_name\n",
      "0             1          1            KLM\n",
      "1             1          2            OPQ\n",
      "2             2          2            OPQ\n",
      "3             3          2            OPQ\n",
      "4             4          1            KLM\n",
      "5             5          2            OPQ\n",
      "6             5          1            KLM\n",
      "7             6          1            KLM\n",
      "8             7          1            KLM\n",
      "9             7          2            OPQ\n",
      "10            8          1            KLM\n",
      "11            9          2            OPQ\n",
      "12           10          2            OPQ\n"
     ]
    }
   ],
   "source": [
    "teachers_names_df = teachers_df.join(teacher_names,rsuffix=\"_name\")\n",
    "print(teachers_names_df)"
   ]
  },
  {
   "cell_type": "code",
   "execution_count": 14,
   "id": "1200fd14",
   "metadata": {},
   "outputs": [
    {
     "name": "stdout",
     "output_type": "stream",
     "text": [
      "    Roll Number  Taught By Teacher Name\n",
      "0             1          1          KLM\n",
      "1             1          2          OPQ\n",
      "2             2          2          OPQ\n",
      "3             3          2          OPQ\n",
      "4             4          1          KLM\n",
      "5             5          2          OPQ\n",
      "6             5          1          KLM\n",
      "7             6          1          KLM\n",
      "8             7          1          KLM\n",
      "9             7          2          OPQ\n",
      "10            8          1          KLM\n",
      "11            9          2          OPQ\n",
      "12           10          2          OPQ\n"
     ]
    }
   ],
   "source": [
    "teachers_names_df.rename(columns={\"Taught By_name\":\"Teacher Name\"},inplace=True)\n",
    "print(teachers_names_df)"
   ]
  },
  {
   "cell_type": "code",
   "execution_count": 15,
   "id": "28bac562",
   "metadata": {},
   "outputs": [
    {
     "name": "stdout",
     "output_type": "stream",
     "text": [
      "    Roll Number  Taught By Teacher Name\n",
      "0             1          1          KLM\n",
      "1             1          2          OPQ\n",
      "2             2          2          OPQ\n",
      "3             3          2          OPQ\n",
      "4             4          1          KLM\n",
      "5             5          2          OPQ\n",
      "6             5          1          KLM\n",
      "7             6          1          KLM\n",
      "8             7          1          KLM\n",
      "9             7          2          OPQ\n",
      "10            8          1          KLM\n",
      "11            9          2          OPQ\n",
      "12           10          2          OPQ\n"
     ]
    }
   ],
   "source": [
    "con1.register(\"teachers_names_db\",teachers_names_df)\n",
    "print(con1.execute(\"SELECT * FROM teachers_names_db \").fetchdf())"
   ]
  },
  {
   "cell_type": "code",
   "execution_count": 16,
   "id": "6dd1c3c1",
   "metadata": {},
   "outputs": [],
   "source": [
    "#print(con1.execute(\"SELECT `Teacher Name` FROM teachers_names_db \").fetchdf())\n",
    "#Will not work due to space in column name"
   ]
  },
  {
   "cell_type": "code",
   "execution_count": 17,
   "id": "6a0ed559",
   "metadata": {},
   "outputs": [
    {
     "name": "stdout",
     "output_type": "stream",
     "text": [
      "0     KLM\n",
      "1     OPQ\n",
      "2     OPQ\n",
      "3     OPQ\n",
      "4     KLM\n",
      "5     OPQ\n",
      "6     KLM\n",
      "7     KLM\n",
      "8     KLM\n",
      "9     OPQ\n",
      "10    KLM\n",
      "11    OPQ\n",
      "12    OPQ\n",
      "Name: Teacher Name, dtype: object\n"
     ]
    }
   ],
   "source": [
    "print(teachers_names_df[\"Teacher Name\"])"
   ]
  },
  {
   "cell_type": "code",
   "execution_count": 18,
   "id": "efc90e54",
   "metadata": {},
   "outputs": [],
   "source": [
    "# Creating a DuckDb Without Spaces in column names for SQL ease\n",
    "con2 = duckdb.connect(database=':memory:', read_only=False)\n",
    "students_sql = pd.read_excel(\"students_sql.xlsx\",sheet_name=\"StudentOverallData\")\n",
    "teachers_sql = pd.read_excel(\"students_sql.xlsx\", sheet_name=\"StudentTeacher\")\n",
    "sectionwise_sql = pd.read_excel(\"students_sql.xlsx\", sheet_name=\"StudentSectionWiseMarks\")\n",
    "con2.register(\"students_db\",students_sql)\n",
    "con2.register(\"teachers_db\",teachers_sql)\n",
    "con2.register(\"sectionwise_marks_db\",sectionwise_sql)\n",
    "#Loading the Third Tab for Pandas Analysis\n",
    "sectionwise_df = pd.read_excel(\"students.xlsx\", sheet_name=\"StudentSectionWiseMarks\")"
   ]
  },
  {
   "cell_type": "code",
   "execution_count": 19,
   "id": "aa5cad72",
   "metadata": {},
   "outputs": [
    {
     "name": "stdout",
     "output_type": "stream",
     "text": [
      "    Roll Number Name  Marks_total  Paper Section  Marks_sectionwise\n",
      "0             1  ABC           57              1                 27\n",
      "1             1  ABC           57              2                 30\n",
      "2             2  DEF           88              1                 44\n",
      "3             2  DEF           88              2                 44\n",
      "4             3  GHI           76              1                 26\n",
      "5             3  GHI           76              2                 50\n",
      "6             4  JKL           93              1                 44\n",
      "7             4  JKL           93              2                 49\n",
      "8             5  MNO           64              1                 30\n",
      "9             5  MNO           64              2                 34\n",
      "10            6  PQR           78              1                 39\n",
      "11            6  PQR           78              2                 39\n",
      "12            7  STU           95              1                 49\n",
      "13            7  STU           95              2                 46\n",
      "14            8  VWX           74              1                 38\n",
      "15            8  VWX           74              2                 36\n",
      "16            9  YZA           91              1                 46\n",
      "17            9  YZA           91              2                 45\n",
      "18           10  BCD           75              1                 37\n",
      "19           10  BCD           75              2                 38\n"
     ]
    }
   ],
   "source": [
    "joined_df  = students_df.merge(sectionwise_df,on=\"Roll Number\",how=\"inner\",suffixes=[\"_total\",\"_sectionwise\"])\n",
    "print(joined_df)"
   ]
  },
  {
   "cell_type": "code",
   "execution_count": 20,
   "id": "a6892893",
   "metadata": {},
   "outputs": [
    {
     "name": "stdout",
     "output_type": "stream",
     "text": [
      "    Roll_Number Name  Marks  Roll_Number_2  Paper_Section  Marks_2\n",
      "0             1  ABC     57              1              1       27\n",
      "1             1  ABC     57              1              2       30\n",
      "2             2  DEF     88              2              1       44\n",
      "3             2  DEF     88              2              2       44\n",
      "4             3  GHI     76              3              1       26\n",
      "5             3  GHI     76              3              2       50\n",
      "6             4  JKL     93              4              1       44\n",
      "7             4  JKL     93              4              2       49\n",
      "8             5  MNO     64              5              1       30\n",
      "9             5  MNO     64              5              2       34\n",
      "10            6  PQR     78              6              1       39\n",
      "11            6  PQR     78              6              2       39\n",
      "12            7  STU     95              7              1       49\n",
      "13            7  STU     95              7              2       46\n",
      "14            8  VWX     74              8              1       38\n",
      "15            8  VWX     74              8              2       36\n",
      "16            9  YZA     91              9              1       46\n",
      "17            9  YZA     91              9              2       45\n",
      "18           10  BCD     75             10              1       37\n",
      "19           10  BCD     75             10              2       38\n"
     ]
    }
   ],
   "source": [
    "joined_sql_df = con2.execute(\"SELECT * FROM students_db, sectionwise_marks_db WHERE students_db.Roll_Number=sectionwise_marks_db.Roll_Number\").fetchdf()\n",
    "print(joined_sql_df)"
   ]
  },
  {
   "cell_type": "code",
   "execution_count": 21,
   "id": "d3d238f5",
   "metadata": {},
   "outputs": [
    {
     "name": "stdout",
     "output_type": "stream",
     "text": [
      "    Roll_Number Name  Marks  Roll_Number_2  Paper_Section  Marks_2\n",
      "0             1  ABC     57              1              1       27\n",
      "1             1  ABC     57              1              2       30\n",
      "2             2  DEF     88              2              1       44\n",
      "3             2  DEF     88              2              2       44\n",
      "4             3  GHI     76              3              1       26\n",
      "5             3  GHI     76              3              2       50\n",
      "6             4  JKL     93              4              1       44\n",
      "7             4  JKL     93              4              2       49\n",
      "8             5  MNO     64              5              1       30\n",
      "9             5  MNO     64              5              2       34\n",
      "10            6  PQR     78              6              1       39\n",
      "11            6  PQR     78              6              2       39\n",
      "12            7  STU     95              7              1       49\n",
      "13            7  STU     95              7              2       46\n",
      "14            8  VWX     74              8              1       38\n",
      "15            8  VWX     74              8              2       36\n",
      "16            9  YZA     91              9              1       46\n",
      "17            9  YZA     91              9              2       45\n",
      "18           10  BCD     75             10              1       37\n",
      "19           10  BCD     75             10              2       38\n"
     ]
    }
   ],
   "source": [
    "#joined_sql_df_other_format = con2.execute(\"SELECT * FROM students_db INNER JOIN sectionwise_marks_db on Roll_Number\").fetchdf()\n",
    "#print(joined_sql_df_other_format) # PostGRES format doesn't work in DuckDB\n",
    "joined_sql_df_other_format2 = con2.execute(\"SELECT * FROM students_db INNER JOIN sectionwise_marks_db on students_db.Roll_Number=sectionwise_marks_db.Roll_Number\").fetchdf()\n",
    "print(joined_sql_df_other_format2)"
   ]
  },
  {
   "cell_type": "code",
   "execution_count": 22,
   "id": "7f932877",
   "metadata": {},
   "outputs": [
    {
     "name": "stdout",
     "output_type": "stream",
     "text": [
      "13    7\n",
      "15    8\n",
      "17    9\n",
      "Name: Roll_Number, dtype: int64\n"
     ]
    }
   ],
   "source": [
    "ps2_df = joined_sql_df[joined_sql_df[\"Paper_Section\"]==2]\n",
    "def check_for_less_than_50p(marks,s2marks):\n",
    "    return s2marks < 0.5*marks\n",
    "flagged = ps2_df[[\"Marks\",\"Marks_2\"]].apply(lambda x: check_for_less_than_50p(x[\"Marks\"],x[\"Marks_2\"]),axis=1)\n",
    "print(ps2_df[flagged][\"Roll_Number\"])"
   ]
  },
  {
   "cell_type": "code",
   "execution_count": 23,
   "id": "a0cd5f64",
   "metadata": {},
   "outputs": [
    {
     "name": "stdout",
     "output_type": "stream",
     "text": [
      "10\n",
      "79.1\n",
      "77.0\n",
      "95\n",
      "57\n",
      "12.635487942915207\n"
     ]
    }
   ],
   "source": [
    "print(len(students_df[\"Marks\"]))\n",
    "print(students_df[\"Marks\"].mean())\n",
    "print(students_df[\"Marks\"].median())\n",
    "print(students_df[\"Marks\"].max())\n",
    "print(students_df[\"Marks\"].min())\n",
    "print(students_df[\"Marks\"].std())"
   ]
  },
  {
   "cell_type": "code",
   "execution_count": 24,
   "id": "11886b85",
   "metadata": {},
   "outputs": [
    {
     "name": "stdout",
     "output_type": "stream",
     "text": [
      "[(10,)]\n",
      "[(79.1,)]\n",
      "[(95,)]\n",
      "[(57,)]\n"
     ]
    }
   ],
   "source": [
    "print(con2.execute(\"SELECT COUNT(Marks) FROM students_db\").fetchall())\n",
    "print(con2.execute(\"SELECT AVG(Marks) FROM students_db\").fetchall())\n",
    "print(con2.execute(\"SELECT MAX(Marks) FROM students_db\").fetchall())\n",
    "print(con2.execute(\"SELECT MIN(Marks) FROM students_db\").fetchall())"
   ]
  },
  {
   "cell_type": "code",
   "execution_count": 25,
   "id": "0cb2dc07",
   "metadata": {},
   "outputs": [
    {
     "name": "stdout",
     "output_type": "stream",
     "text": [
      "Paper Section:  \n",
      " 1 \n",
      " Data:  \n",
      "     Roll Number  Paper Section  Marks\n",
      "0             1              1     27\n",
      "2             2              1     44\n",
      "4             3              1     26\n",
      "6             4              1     44\n",
      "8             5              1     30\n",
      "10            6              1     39\n",
      "12            7              1     49\n",
      "14            8              1     38\n",
      "16            9              1     46\n",
      "18           10              1     37\n",
      "Paper Section:  \n",
      " 2 \n",
      " Data:  \n",
      "     Roll Number  Paper Section  Marks\n",
      "1             1              2     30\n",
      "3             2              2     44\n",
      "5             3              2     50\n",
      "7             4              2     49\n",
      "9             5              2     34\n",
      "11            6              2     39\n",
      "13            7              2     46\n",
      "15            8              2     36\n",
      "17            9              2     45\n",
      "19           10              2     38\n"
     ]
    }
   ],
   "source": [
    "swgb = sectionwise_df.groupby(\"Paper Section\")\n",
    "for (paper_section,sectiondf) in swgb:\n",
    "    print(\"Paper Section: \",\"\\n\",paper_section,\"\\n\",\"Data: \",\"\\n\",sectiondf)"
   ]
  },
  {
   "cell_type": "code",
   "execution_count": 26,
   "id": "5a086799",
   "metadata": {},
   "outputs": [
    {
     "name": "stdout",
     "output_type": "stream",
     "text": [
      "Paper Section:  1 Paper Section Average Marks:  38.0\n",
      "Paper Section:  2 Paper Section Average Marks:  41.1\n"
     ]
    }
   ],
   "source": [
    "for (paper_section,sectiondf) in swgb:\n",
    "    print(\"Paper Section: \",paper_section,\"Paper Section Average Marks: \",sectiondf[\"Marks\"].mean())"
   ]
  },
  {
   "cell_type": "code",
   "execution_count": 27,
   "id": "b323f22b",
   "metadata": {},
   "outputs": [
    {
     "name": "stdout",
     "output_type": "stream",
     "text": [
      "   avg(marks)\n",
      "0        38.0\n",
      "1        41.1\n"
     ]
    }
   ],
   "source": [
    "sectionwiseavgmarksdf = con2.execute(\"SELECT AVG(Marks) FROM sectionwise_marks_db GROUP BY Paper_Section\").fetchdf()\n",
    "print(sectionwiseavgmarksdf)"
   ]
  },
  {
   "cell_type": "code",
   "execution_count": 28,
   "id": "13af7d0c",
   "metadata": {},
   "outputs": [
    {
     "data": {
      "image/png": "[encoded data removed]",
      "text/plain": [
       "<Figure size 432x288 with 1 Axes>"
      ]
     },
     "metadata": {
      "needs_background": "light"
     },
     "output_type": "display_data"
    }
   ],
   "source": [
    "plt.plot(students_df[\"Marks\"])\n",
    "plt.show()"
   ]
  },
  {
   "cell_type": "code",
   "execution_count": 29,
   "id": "751a2d67",
   "metadata": {},
   "outputs": [
    {
     "data": {
      "image/png": "[encoded data removed]",
      "text/plain": [
       "<Figure size 432x288 with 1 Axes>"
      ]
     },
     "metadata": {
      "needs_background": "light"
     },
     "output_type": "display_data"
    }
   ],
   "source": [
    "plt.scatter(x=students_df[\"Roll Number\"],y=students_df[\"Marks\"])\n",
    "plt.show()"
   ]
  },
  {
   "cell_type": "code",
   "execution_count": 30,
   "id": "c478f350",
   "metadata": {},
   "outputs": [
    {
     "name": "stderr",
     "output_type": "stream",
     "text": [
      "C:\\mywares\\Anaconda3\\lib\\site-packages\\seaborn\\_decorators.py:43: FutureWarning: Pass the following variable as a keyword arg: x. From version 0.12, the only valid positional argument will be `data`, and passing other arguments without an explicit keyword will result in an error or misinterpretation.\n",
      "  FutureWarning\n"
     ]
    },
    {
     "data": {
      "image/png": "[encoded data removed]",
      "text/plain": [
       "<Figure size 432x288 with 1 Axes>"
      ]
     },
     "metadata": {
      "needs_background": "light"
     },
     "output_type": "display_data"
    }
   ],
   "source": [
    "seaborn.boxplot(students_df[\"Marks\"])\n",
    "plt.show()"
   ]
  },
  {
   "cell_type": "code",
   "execution_count": null,
   "id": "696d20dd",
   "metadata": {},
   "outputs": [],
   "source": []
  },
  {
   "cell_type": "code",
   "execution_count": 31,
   "id": "b57b1a61",
   "metadata": {},
   "outputs": [
    {
     "name": "stdout",
     "output_type": "stream",
     "text": [
      "    Roll Number Name  Marks  Taught By Teacher Name\n",
      "0             1  ABC     57          1          KLM\n",
      "1             1  ABC     57          2          OPQ\n",
      "2             2  DEF     88          2          OPQ\n",
      "3             3  GHI     76          2          OPQ\n",
      "4             4  JKL     93          1          KLM\n",
      "5             5  MNO     64          2          OPQ\n",
      "6             5  MNO     64          1          KLM\n",
      "7             6  PQR     78          1          KLM\n",
      "8             7  STU     95          1          KLM\n",
      "9             7  STU     95          2          OPQ\n",
      "10            8  VWX     74          1          KLM\n",
      "11            9  YZA     91          2          OPQ\n",
      "12           10  BCD     75          2          OPQ\n"
     ]
    }
   ],
   "source": [
    "teachers_marks_df = students_df.merge(teachers_names_df, on= \"Roll Number\")\n",
    "print(teachers_marks_df)"
   ]
  },
  {
   "cell_type": "code",
   "execution_count": 32,
   "id": "0c82ee92",
   "metadata": {},
   "outputs": [
    {
     "data": {
      "image/png": "[encoded data removed]",
      "text/plain": [
       "<Figure size 432x288 with 1 Axes>"
      ]
     },
     "metadata": {
      "needs_background": "light"
     },
     "output_type": "display_data"
    }
   ],
   "source": [
    "seaborn.boxplot(x=teachers_marks_df[\"Teacher Name\"],y=teachers_marks_df[\"Marks\"])\n",
    "plt.show()"
   ]
  },
  {
   "cell_type": "code",
   "execution_count": 33,
   "id": "ec411186",
   "metadata": {},
   "outputs": [
    {
     "data": {
      "image/png": "[encoded data removed]",
      "text/plain": [
       "<Figure size 432x288 with 1 Axes>"
      ]
     },
     "metadata": {
      "needs_background": "light"
     },
     "output_type": "display_data"
    }
   ],
   "source": [
    "seaborn.boxplot(data=teachers_marks_df,x=\"Teacher Name\",y=\"Marks\")\n",
    "plt.show()"
   ]
  }
 ],
 "metadata": {
  "kernelspec": {
   "display_name": "DataMining",
   "language": "python",
   "name": "datamining"
  },
  "language_info": {
   "codemirror_mode": {
    "name": "ipython",
    "version": 3
   },
   "file_extension": ".py",
   "mimetype": "text/x-python",
   "name": "python",
   "nbconvert_exporter": "python",
   "pygments_lexer": "ipython3",
   "version": "3.7.8"
  }
 },
 "nbformat": 4,
 "nbformat_minor": 5
}
